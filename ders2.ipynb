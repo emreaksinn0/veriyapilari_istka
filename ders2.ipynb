{
  "nbformat": 4,
  "nbformat_minor": 0,
  "metadata": {
    "colab": {
      "provenance": []
    },
    "kernelspec": {
      "name": "python3",
      "display_name": "Python 3"
    },
    "language_info": {
      "name": "python"
    }
  },
  "cells": [
    {
      "cell_type": "code",
      "execution_count": 1,
      "metadata": {
        "colab": {
          "base_uri": "https://localhost:8080/"
        },
        "id": "V9SVySDioHAe",
        "outputId": "9b6b628a-639f-4a30-8c11-4b77e4e6035e"
      },
      "outputs": [
        {
          "output_type": "stream",
          "name": "stdout",
          "text": [
            "merhaba ,İGÜ İSTKA/ DERS1\n"
          ]
        }
      ],
      "source": [
        "print(\"merhaba ,İGÜ İSTKA/ DERS1\")#BİR AÇIKLAMA SATIRIDIR!!"
      ]
    },
    {
      "cell_type": "code",
      "source": [
        "import sys#import pyhton programlama dilinde yazılım kütüphane eklemeye yarayan bir kod\n",
        "print(sys.version)"
      ],
      "metadata": {
        "colab": {
          "base_uri": "https://localhost:8080/"
        },
        "id": "bj0zBZlApvCh",
        "outputId": "87809d5b-a06e-40d5-c7f2-eeb37a18ef1b"
      },
      "execution_count": 2,
      "outputs": [
        {
          "output_type": "stream",
          "name": "stdout",
          "text": [
            "3.10.12 (main, Jul 29 2024, 16:56:48) [GCC 11.4.0]\n"
          ]
        }
      ]
    },
    {
      "cell_type": "code",
      "source": [
        "from google.colab import drive # google colab. google drive bağlantısı\n",
        "drive.mount('/content/drive')"
      ],
      "metadata": {
        "colab": {
          "base_uri": "https://localhost:8080/"
        },
        "id": "i5j1wbpOpy4p",
        "outputId": "cd433e64-4422-4b4d-c012-be7971efb821"
      },
      "execution_count": 3,
      "outputs": [
        {
          "output_type": "stream",
          "name": "stdout",
          "text": [
            "Mounted at /content/drive\n"
          ]
        }
      ]
    },
    {
      "cell_type": "code",
      "source": [
        "import os\n",
        "os.chdir('/content/drive/My Drive/VERIYAPILARI_ISTKA')\n",
        "!pwd # bize kodun çıktısını dosya yolu olarak veren kod blogudur."
      ],
      "metadata": {
        "colab": {
          "base_uri": "https://localhost:8080/"
        },
        "id": "HVJ3Y7W4p2PB",
        "outputId": "f7d86da8-dc7b-471b-fd5b-dd78976c14c9"
      },
      "execution_count": 4,
      "outputs": [
        {
          "output_type": "stream",
          "name": "stdout",
          "text": [
            "/content/drive/My Drive/VERIYAPILARI_ISTKA\n"
          ]
        }
      ]
    },
    {
      "cell_type": "markdown",
      "source": [
        "Python Programlama Dili Temelinde Kullanılan Fonksiyonlar\n",
        "\n",
        "1. len() -> bir değişkenin uzunluğunu ele almaktadır.\n",
        "2. type() -> bir değişkenin veri tipini vermektedir.\n",
        "3. print() -> belirtilen değeri veya değerleri ekrana yazdırır.\n",
        "4. capitalized() -> bir dizeyi alır ve sadece ilk harfini büyük harf yapar, geri  kalan harfleri küçük harf yapar.\n",
        "5. split() -> bir dizeyi belirli bir ayırıcıya göre böler ve her bir parçayı liste elemanı olarak döner.\n",
        "6. upper() -> bir dizedeki tüm harfleri büyük harfe çevirir.\n",
        "7. input() -> kullanıcıdan veri almak için kullanılmaktadır.\n",
        "8. float() -> bir değeri ondalıklı sayı veri tipine dönüştürmek için kullanılır.\n",
        "9. int() -> bir değeri tam sayı veri tipine dönüştürmek için kullanılır.\n",
        "10. abs() -> mutlak değer alma fonksiyonudur."
      ],
      "metadata": {
        "id": "7Qk6Wf7Ts6-H"
      }
    },
    {
      "cell_type": "code",
      "source": [
        "# geçerli değişken tanımlaması\n",
        "\n",
        "degisken_1 = 10\n",
        "Degisken2 = 20\n",
        "_degisken3 = 30"
      ],
      "metadata": {
        "id": "X3pFN0R4vfUu"
      },
      "execution_count": 5,
      "outputs": []
    },
    {
      "cell_type": "code",
      "source": [
        "# geçersiz değişken tanımlaması\n",
        "\n",
        "1degisken = 40\n",
        "degisken-4 = 50"
      ],
      "metadata": {
        "colab": {
          "base_uri": "https://localhost:8080/",
          "height": 110
        },
        "id": "ad44KykMv-ag",
        "outputId": "0abe7885-1333-4652-becd-7ace32ce691d"
      },
      "execution_count": 6,
      "outputs": [
        {
          "output_type": "error",
          "ename": "SyntaxError",
          "evalue": "invalid decimal literal (<ipython-input-6-91459cd5c985>, line 3)",
          "traceback": [
            "\u001b[0;36m  File \u001b[0;32m\"<ipython-input-6-91459cd5c985>\"\u001b[0;36m, line \u001b[0;32m3\u001b[0m\n\u001b[0;31m    1degisken = 40\u001b[0m\n\u001b[0m    ^\u001b[0m\n\u001b[0;31mSyntaxError\u001b[0m\u001b[0;31m:\u001b[0m invalid decimal literal\n"
          ]
        }
      ]
    },
    {
      "cell_type": "code",
      "source": [
        "# değişken tanımlama işlemi\n",
        "\n",
        "x = 5\n",
        "\n",
        "y = \"Merhaba Dunya\"\n",
        "\n",
        "print(x)\n",
        "print(y)"
      ],
      "metadata": {
        "colab": {
          "base_uri": "https://localhost:8080/"
        },
        "id": "ABWELUWgwY6r",
        "outputId": "1babb886-4155-473c-a7d0-1f8e6e79a7f1"
      },
      "execution_count": 7,
      "outputs": [
        {
          "output_type": "stream",
          "name": "stdout",
          "text": [
            "5\n",
            "Merhaba Dunya\n"
          ]
        }
      ]
    },
    {
      "cell_type": "code",
      "source": [
        "# Integer tam sayı tanımlaması\n",
        "\n",
        "a = 10\n",
        "print(type (a))"
      ],
      "metadata": {
        "colab": {
          "base_uri": "https://localhost:8080/"
        },
        "id": "cH5F5HEAw3kf",
        "outputId": "83688946-b838-44d8-dc5d-2a669a198f75"
      },
      "execution_count": 8,
      "outputs": [
        {
          "output_type": "stream",
          "name": "stdout",
          "text": [
            "<class 'int'>\n"
          ]
        }
      ]
    },
    {
      "cell_type": "code",
      "source": [
        "# Float Ondalık Sayı tanımlaması\n",
        "b = 20.5\n",
        "print(type(b))"
      ],
      "metadata": {
        "colab": {
          "base_uri": "https://localhost:8080/"
        },
        "id": "rCpTNNk359-t",
        "outputId": "31571033-b2fd-4abf-ea95-a2d6261749a0"
      },
      "execution_count": 9,
      "outputs": [
        {
          "output_type": "stream",
          "name": "stdout",
          "text": [
            "<class 'float'>\n"
          ]
        }
      ]
    },
    {
      "cell_type": "code",
      "source": [
        "# ınt'ten float'a çevrimin gerçekleştirilmesi\n",
        "\n",
        "x = 10\n",
        "y = float(x)\n",
        "print(y,type(y))"
      ],
      "metadata": {
        "colab": {
          "base_uri": "https://localhost:8080/"
        },
        "id": "AXGjA0gW6aX-",
        "outputId": "0fe51695-9a2b-49ff-f2c6-7b0399586659"
      },
      "execution_count": 10,
      "outputs": [
        {
          "output_type": "stream",
          "name": "stdout",
          "text": [
            "10.0 <class 'float'>\n"
          ]
        }
      ]
    },
    {
      "cell_type": "code",
      "source": [
        "# float'tan int'e çevirimin gerçekleşmesi\n",
        "\n",
        "a = 20.50\n",
        "b= int(a)\n",
        "print(b,type(b))"
      ],
      "metadata": {
        "colab": {
          "base_uri": "https://localhost:8080/"
        },
        "id": "gOW6irYG61Y-",
        "outputId": "0e34458d-9107-4e90-d54d-c7ff52db2a28"
      },
      "execution_count": 14,
      "outputs": [
        {
          "output_type": "stream",
          "name": "stdout",
          "text": [
            "20 <class 'int'>\n"
          ]
        }
      ]
    },
    {
      "cell_type": "code",
      "source": [
        "# String - Metinsel içerik tanımlaması\n",
        "\n",
        "c = \"Pyhton programlama\"\n",
        "print(c)\n",
        "print(type(c))"
      ],
      "metadata": {
        "colab": {
          "base_uri": "https://localhost:8080/"
        },
        "id": "m4WeHzve7SWQ",
        "outputId": "6a4b40b1-4ef9-4bcf-fc9b-ddb2378d26d1"
      },
      "execution_count": 15,
      "outputs": [
        {
          "output_type": "stream",
          "name": "stdout",
          "text": [
            "Pyhton programlama\n",
            "<class 'str'>\n"
          ]
        }
      ]
    },
    {
      "cell_type": "code",
      "source": [
        "# Boolean(True-False)-Doğru / Yanlış tanımlaması\n",
        "\n",
        "d = True\n",
        "e = False\n",
        "print(d)\n",
        "print(type(e))"
      ],
      "metadata": {
        "colab": {
          "base_uri": "https://localhost:8080/"
        },
        "id": "tZtwtMfY75RB",
        "outputId": "110366c2-1ce5-4dca-dc3c-5f465b32431d"
      },
      "execution_count": 16,
      "outputs": [
        {
          "output_type": "stream",
          "name": "stdout",
          "text": [
            "True\n",
            "<class 'bool'>\n"
          ]
        }
      ]
    },
    {
      "cell_type": "code",
      "source": [
        "# List - Liste tanımlaması\n",
        "\n",
        "my_list = [1,2,3,4,5]\n",
        "print(type(my_list))\n",
        "print(my_list)"
      ],
      "metadata": {
        "colab": {
          "base_uri": "https://localhost:8080/"
        },
        "id": "gaXLaUw_8siU",
        "outputId": "18f98bb9-a043-4a98-8fb3-e4b16d11b8ed"
      },
      "execution_count": 17,
      "outputs": [
        {
          "output_type": "stream",
          "name": "stdout",
          "text": [
            "<class 'list'>\n",
            "[1, 2, 3, 4, 5]\n"
          ]
        }
      ]
    },
    {
      "cell_type": "code",
      "source": [
        "# Tuple - Demet Tanımlaması\n",
        "tumple = (1,2,3,4)\n",
        "print(type(tumple))\n",
        "print(tumple)"
      ],
      "metadata": {
        "colab": {
          "base_uri": "https://localhost:8080/"
        },
        "id": "-XPlF-fT-Ucn",
        "outputId": "f6f2d910-2aa0-49c3-cc26-2b92a99ff09d"
      },
      "execution_count": 19,
      "outputs": [
        {
          "output_type": "stream",
          "name": "stdout",
          "text": [
            "<class 'tuple'>\n",
            "(1, 2, 3, 4)\n"
          ]
        }
      ]
    },
    {
      "cell_type": "code",
      "source": [
        "# Dictionary - Sözlük Örneği - Öğrencilerin notlarını tutan bir sözlük\n",
        "\n",
        "notlar = { # süslü parantez burda olmalı Aşağıda olursa ÇALIŞMAZ!!!!!!!!!!!\n",
        "\n",
        "    \"Ali\" : 85, # not güncellenecek\n",
        "    \"Ayse\" : 90,\n",
        "    \"Veli\" : 75\n",
        "\n",
        "}\n",
        "notlar[\"fatma\"]= 92 # Yeni Öğrenci Ekleme\n",
        "notlar[\"Ali\"]= 88 # Bir Öğrencinin Notunu Güncelleme\n",
        "print(notlar)"
      ],
      "metadata": {
        "colab": {
          "base_uri": "https://localhost:8080/"
        },
        "id": "H-hTpvoa-1qQ",
        "outputId": "cf173b96-111d-47c5-84e8-8053c6118efe"
      },
      "execution_count": 22,
      "outputs": [
        {
          "output_type": "stream",
          "name": "stdout",
          "text": [
            "{'Ali': 88, 'Ayse': 90, 'Veli': 75, 'fatma': 92}\n"
          ]
        }
      ]
    },
    {
      "cell_type": "code",
      "source": [
        "print(notlar.keys()) # dict_keys(['isim','yas','meslek'])\n",
        "print(notlar.values()) # dict_values(['Ahmet',26,'Mühendis'])\n",
        "print(notlar.items()) # dict_items([('isim',Ahmet),('yas',26),('Meslek','mühendis')])"
      ],
      "metadata": {
        "colab": {
          "base_uri": "https://localhost:8080/"
        },
        "id": "W4YTjmN3AUma",
        "outputId": "ff5ce520-d45e-4060-d2ab-a2f4e8831aa6"
      },
      "execution_count": 23,
      "outputs": [
        {
          "output_type": "stream",
          "name": "stdout",
          "text": [
            "dict_keys(['Ali', 'Ayse', 'Veli', 'fatma'])\n",
            "dict_values([88, 90, 75, 92])\n",
            "dict_items([('Ali', 88), ('Ayse', 90), ('Veli', 75), ('fatma', 92)])\n"
          ]
        }
      ]
    },
    {
      "cell_type": "code",
      "source": [
        "# Set - Küme Örneği --- Bir yazılım etkinliğine katılan kişikerin oluşturğu kümeler\n",
        "\n",
        "kodyazanlar = {\"Ahmet\",\"Ali\",\"Ayse\"}\n",
        "kodyazmayanlar = {\"Ayse\",\"fatma\",\"Veli\"}\n",
        "\n",
        "# Kafasına göre takılan öğrenciler\n",
        "\n",
        "ortak = kodyazanlar.intersection(kodyazmayanlar)\n",
        "print(\"Kafasına göre takılan öğrencilerin listesi\",ortak)\n",
        "\n",
        "# Etkinlikte Kod Çalışması Yapmayan Öğrencilerin Tespiti\n",
        "Kod_yazmayan = kodyazmayanlar.difference(kodyazanlar)\n",
        "print(\"Kod çalışması yapmayan öğrenci listesi:\", Kod_yazmayan)\n",
        "\n",
        "# Yazılım eğitiminin Öğreni İmza listesi\n",
        "imzalistesi=kodyazanlar.union(kodyazmayanlar)\n",
        "print(\"Etkinlik Katılımcıları\",imzalistesi)"
      ],
      "metadata": {
        "colab": {
          "base_uri": "https://localhost:8080/"
        },
        "id": "6XmE_X4ACByc",
        "outputId": "350bc770-7ce1-4386-eeab-544776f24ac4"
      },
      "execution_count": 24,
      "outputs": [
        {
          "output_type": "stream",
          "name": "stdout",
          "text": [
            "Kafasına göre takılan öğrencilerin listesi {'Ayse'}\n",
            "Kod çalışması yapmayan öğrenci listesi: {'fatma', 'Veli'}\n",
            "Etkinlik Katılımcıları {'fatma', 'Ayse', 'Veli', 'Ahmet', 'Ali'}\n"
          ]
        }
      ]
    },
    {
      "cell_type": "code",
      "source": [
        "giris = input (\"Bir Sayi Girinizz\")\n",
        "try:\n",
        "  num = float(giris)\n",
        "  print(f\"girilen sayi: {num}, tipi: {type(num)}\", abs(num)) # sayi girmemize yarayan kod\n",
        "except ValueError:\n",
        "  print(\"Geçersiz Sayi Girdinizz!!\")"
      ],
      "metadata": {
        "colab": {
          "base_uri": "https://localhost:8080/"
        },
        "id": "i7kBYZroD962",
        "outputId": "30c7047a-d638-4dcc-db72-8a35742acac3"
      },
      "execution_count": 27,
      "outputs": [
        {
          "output_type": "stream",
          "name": "stdout",
          "text": [
            "Bir Sayi Girinizz45\n",
            "girilen sayi: 45.0, tipi: <class 'float'> 45.0\n"
          ]
        }
      ]
    },
    {
      "cell_type": "code",
      "source": [
        "# 0 ile 1 arasında rastgele bir ondalık sayı üretir\n",
        "\n",
        "import random\n",
        "\n",
        "rastgele_float = random.random()\n",
        "print(\"Rastgele Deger\",rastgele_float)"
      ],
      "metadata": {
        "colab": {
          "base_uri": "https://localhost:8080/"
        },
        "id": "anBAOJGsE7KP",
        "outputId": "df138366-a97b-4302-e173-be7b150312bc"
      },
      "execution_count": 29,
      "outputs": [
        {
          "output_type": "stream",
          "name": "stdout",
          "text": [
            "Rastgele Deger 0.5836468959795068\n"
          ]
        }
      ]
    },
    {
      "cell_type": "code",
      "source": [
        "# 0 ile 10 arasında rastgele bir sayı üretir\n",
        "\n",
        "import random\n",
        "\n",
        "rastgele_sayi = random.randint(1,10) # randint foksiyonu gir tam sayi sonucu almak için\n",
        "print(\"Rastgele Deger\",rastgele_sayi)"
      ],
      "metadata": {
        "colab": {
          "base_uri": "https://localhost:8080/"
        },
        "id": "XK4ELFl1Flxg",
        "outputId": "5af8e65d-3dfe-4d8d-a0b7-b50d54ad320b"
      },
      "execution_count": 33,
      "outputs": [
        {
          "output_type": "stream",
          "name": "stdout",
          "text": [
            "Rastgele Deger 1\n"
          ]
        }
      ]
    }
  ]
}