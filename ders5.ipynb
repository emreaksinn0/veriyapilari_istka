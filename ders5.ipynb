{
  "nbformat": 4,
  "nbformat_minor": 0,
  "metadata": {
    "colab": {
      "provenance": []
    },
    "kernelspec": {
      "name": "python3",
      "display_name": "Python 3"
    },
    "language_info": {
      "name": "python"
    }
  },
  "cells": [
    {
      "cell_type": "code",
      "execution_count": 5,
      "metadata": {
        "colab": {
          "base_uri": "https://localhost:8080/"
        },
        "id": "WptE29U8CnX8",
        "outputId": "d1e28899-8d6c-429a-e8b1-5b41df12c532"
      },
      "outputs": [
        {
          "output_type": "stream",
          "name": "stdout",
          "text": [
            "merhaba ,İGÜ İSTKA/ DERS5\n"
          ]
        }
      ],
      "source": [
        "print(\"merhaba ,İGÜ İSTKA/ DERS5\")#BİR AÇIKLAMA SATIRIDIR!!"
      ]
    },
    {
      "cell_type": "code",
      "source": [
        "import sys#import pyhton programlama dilinde yazılım kütüphane eklemeye yarayan bir kod\n",
        "print(sys.version)"
      ],
      "metadata": {
        "colab": {
          "base_uri": "https://localhost:8080/"
        },
        "id": "mfJXn1n2Cnzk",
        "outputId": "776cc04f-364e-4219-dbf6-809132712593"
      },
      "execution_count": 2,
      "outputs": [
        {
          "output_type": "stream",
          "name": "stdout",
          "text": [
            "3.10.12 (main, Jul 29 2024, 16:56:48) [GCC 11.4.0]\n"
          ]
        }
      ]
    },
    {
      "cell_type": "code",
      "source": [
        "from google.colab import drive # google colab. google drive bağlantısı\n",
        "drive.mount('/content/drive')"
      ],
      "metadata": {
        "colab": {
          "base_uri": "https://localhost:8080/"
        },
        "id": "f57pHf5iCn70",
        "outputId": "5039690c-c44b-4ccd-9d4e-b69bb551e52b"
      },
      "execution_count": 3,
      "outputs": [
        {
          "output_type": "stream",
          "name": "stdout",
          "text": [
            "Mounted at /content/drive\n"
          ]
        }
      ]
    },
    {
      "cell_type": "code",
      "source": [
        "import os\n",
        "os.chdir('/content/drive/My Drive/VERIYAPILARI_ISTKA')\n",
        "!pwd # bize kodun çıktısını dosya yolu olarak veren kod blogudur."
      ],
      "metadata": {
        "colab": {
          "base_uri": "https://localhost:8080/"
        },
        "id": "UFfhFtOxCoC0",
        "outputId": "3942e290-e429-40e8-e74a-ebe510aecf31"
      },
      "execution_count": 4,
      "outputs": [
        {
          "output_type": "stream",
          "name": "stdout",
          "text": [
            "/content/drive/My Drive/VERIYAPILARI_ISTKA\n"
          ]
        }
      ]
    },
    {
      "cell_type": "code",
      "source": [
        "# 1 ile 100 arasında sayılardan 7 ye bölünenleri bulan pyhton kodu\n",
        "\n",
        "dizi = []\n",
        "dizi2 = []\n",
        "sayi = 1\n",
        "\n",
        "while sayi <= 100:\n",
        "  if sayi % 7 == 0:\n",
        "    dizi.append(sayi)\n",
        "  elif sayi % 7 !=0:\n",
        "    dizi2.append(sayi)\n",
        "  sayi += 1\n",
        "\n",
        "# sonucu ekrana yazdır\n",
        "print(\"1 ile 100 arasindaki 7 ye bölünen sayilar:\",dizi)\n",
        "print(\"toplam sayi adeti :\",len(dizi))\n",
        "\n",
        "print(\"1 ile 100 arasindaki 7 ye bölünmeyen sayilar:\",dizi2)\n",
        "print(\"toplam bölünmeyen sayi adeti :\",len(dizi2))"
      ],
      "metadata": {
        "colab": {
          "base_uri": "https://localhost:8080/"
        },
        "id": "qcLAafx-CoKz",
        "outputId": "a97539ba-fa25-4328-eb9f-2b16227777bf"
      },
      "execution_count": 12,
      "outputs": [
        {
          "output_type": "stream",
          "name": "stdout",
          "text": [
            "1 ile 100 arasindaki 7 ye bölünen sayilar: [7, 14, 21, 28, 35, 42, 49, 56, 63, 70, 77, 84, 91, 98]\n",
            "toplam sayi adeti : 14\n",
            "1 ile 100 arasindaki 7 ye bölünmeyen sayilar: [1, 2, 3, 4, 5, 6, 8, 9, 10, 11, 12, 13, 15, 16, 17, 18, 19, 20, 22, 23, 24, 25, 26, 27, 29, 30, 31, 32, 33, 34, 36, 37, 38, 39, 40, 41, 43, 44, 45, 46, 47, 48, 50, 51, 52, 53, 54, 55, 57, 58, 59, 60, 61, 62, 64, 65, 66, 67, 68, 69, 71, 72, 73, 74, 75, 76, 78, 79, 80, 81, 82, 83, 85, 86, 87, 88, 89, 90, 92, 93, 94, 95, 96, 97, 99, 100]\n",
            "toplam bölünmeyen sayi adeti : 86\n"
          ]
        }
      ]
    },
    {
      "cell_type": "code",
      "source": [
        "# Girilen iki kodun hangisinin büyük olduğunu bulan ve sayı dışında girilen karakterin hatalı olduğu bildiren kod blogudur.\n",
        "while True:\n",
        "  try:\n",
        "    girilen1 =float(input(\"Lutfen bir sayi giriniz\"))\n",
        "    girilen2 =float(input(\"Lutfen bir sayi giriniz\"))\n",
        "    if girilen1 > girilen2:\n",
        "      print(\"İlk sayi daha büyüktür\")\n",
        "    elif girilen1 < girilen2:\n",
        "      print(\"İkinci sayi daha büyüktür\")\n",
        "    else:\n",
        "      print(\"Sayilar eşittir\")\n",
        "    break\n",
        "  except ValueError:\n",
        "    print(\"Lutfen geçerli bir sayi giriniz\")"
      ],
      "metadata": {
        "colab": {
          "base_uri": "https://localhost:8080/"
        },
        "id": "Qy6-oc5cIQN4",
        "outputId": "9b939cb1-4dd6-4823-a6ac-32a710940ec9"
      },
      "execution_count": 20,
      "outputs": [
        {
          "output_type": "stream",
          "name": "stdout",
          "text": [
            "Lutfen bir sayi giriniz10.5\n",
            "Lutfen bir sayi giriniz10.6\n",
            "İkinci sayi daha büyüktür\n"
          ]
        }
      ]
    },
    {
      "cell_type": "code",
      "source": [
        "# Kullanıcıdan alınan sayıya kadar 1'den başlayarak faktöreyel hesabının yapılmasıdır.\n",
        "while True:\n",
        "  try:\n",
        "    sayi = int(input(\"Lutfen bir sayi giriniz\"))\n",
        "    if sayi < 0:\n",
        "      print(\"Negatif sayilarin faktoryelleri hesaplanmaz!!\")\n",
        "    elif sayi == 0 or sayi == 1:\n",
        "      print(1)\n",
        "    else:\n",
        "      sonuc = 1\n",
        "      while sayi > 1:\n",
        "        sonuc *= sayi\n",
        "        sayi -= 1\n",
        "        print(sonuc)\n",
        "    break\n",
        "  except ValueError:\n",
        "    print(\"Lutfen Gecerli Bir Sayi Giriniz\")\n",
        "\n",
        "\n",
        "\n"
      ],
      "metadata": {
        "colab": {
          "base_uri": "https://localhost:8080/"
        },
        "id": "tPrthfDPKSKM",
        "outputId": "1dc65670-e342-476d-872a-64c5ed7b5d99"
      },
      "execution_count": 31,
      "outputs": [
        {
          "output_type": "stream",
          "name": "stdout",
          "text": [
            "Lutfen bir sayi giriniz0\n",
            "1\n"
          ]
        }
      ]
    },
    {
      "cell_type": "code",
      "source": [
        "# Kullanıcıdan başlangıç değeri al\n",
        "while True:\n",
        "  try:\n",
        "    baslangic = int(input(\"Lutfen bir deger giriniz\"))\n",
        "    if baslangic < 0:\n",
        "     baslangic = abs(baslangic)\n",
        "     print(\"Negatif deger girdiniz Pozitif olarak alındı :\",baslangic)\n",
        "    break\n",
        "  except ValueError:\n",
        "    print(\"Gecerli bir deger giriniz\")\n",
        "\n",
        "# bitis degeri al\n",
        "\n",
        "while True:\n",
        "  try:\n",
        "    bitis = int(input(\"Lutfen bitis degerini giriniz\"))\n",
        "    if bitis < 0:\n",
        "     bitis = abs(bitis)\n",
        "     print(\"Negatif deger girdiniz Pozitif olarak alındı :\",bitis)\n",
        "    break\n",
        "  except ValueError:\n",
        "    print(\"Gecerli bir deger giriniz\")\n",
        "\n",
        "# Başlangıç ve bitiş değerleri arasında çift sayıları bul ve topla\n",
        "\n",
        "cift = []\n",
        "csayilarin_toplami = 0\n",
        "sayi = baslangic\n",
        "\n",
        "while sayi <= bitis:\n",
        "  if sayi % 2 == 0:\n",
        "      cift.append(sayi)\n",
        "      csayilarin_toplami += sayi\n",
        "  sayi += 1\n",
        "# Elde edilen çift sayıları ve toplamlarını ekrana yazdır\n",
        "\n",
        "print(\" arasındaki çift sayılar:\",baslangic,bitis)\n",
        "for num in cift:\n",
        "    print(num, end=\" \")\n",
        "\n",
        "print(f\"\\nÇift sayıların toplamı: {csayilarin_toplami}\")\n"
      ],
      "metadata": {
        "colab": {
          "base_uri": "https://localhost:8080/"
        },
        "id": "jRgvugB-WNBz",
        "outputId": "b141dcc7-908e-4b3c-8e2d-c19c71b78b76"
      },
      "execution_count": 44,
      "outputs": [
        {
          "output_type": "stream",
          "name": "stdout",
          "text": [
            "Lutfen bir deger giriniz10\n",
            "Lutfen bitis degerini giriniz50\n",
            " arasındaki çift sayılar: 10 50\n",
            "10 12 14 16 18 20 22 24 26 28 30 32 34 36 38 40 42 44 46 48 50 \n",
            "Çift sayıların toplamı: 630\n"
          ]
        }
      ]
    },
    {
      "cell_type": "code",
      "source": [
        "# Önceden tanımlalan sesli harf listesinde girilen metnin karşılaştırılması yapılarak sesli ve sessiz harf kontrolünün yapımı.\n",
        "sesli_harfler = 'aeıioöuüAEIİOÖUÜ'\n",
        "kelime = input(\"Bir kelime girin: \") # Kullanıcıdan bir kelime al\n",
        "\n",
        "#sesli ve sessiz harf sayısını hesapla\n",
        "sesli_harf_sayisi = 0\n",
        "sessiz_harf_sayisi = 0\n",
        "\n",
        "'''\n",
        "isalpha() ile bir stringde yalnızca harf olup olmadığını kontrol etmek için kullanılır.\n",
        "\n",
        "Aşağıdaki kod blogunda geçen \"isalpha\" harf dışı bir karakter ile karşılaşınca \"false\" döndürmektedir.\n",
        "\n",
        "'''\n",
        "for harf in kelime:\n",
        "  if harf.isalpha(): # Sadece harfleri kontrol et\n",
        "    if harf in sesli_harfler:\n",
        "      sesli_harf_sayisi +=1\n",
        "    else:\n",
        "      sessiz_harf_sayisi +=1\n",
        "# Sonuçları ekrana yazdır\n",
        "print(kelime, \"kelimesinde\" , sesli_harf_sayisi , \"adet sesli harf ve\", sessiz_harf_sayisi, \"sessiz harf vardır.\")"
      ],
      "metadata": {
        "colab": {
          "base_uri": "https://localhost:8080/"
        },
        "id": "It5akCOubZl5",
        "outputId": "492730f3-8cb1-4d89-e670-04945d1c2377"
      },
      "execution_count": 47,
      "outputs": [
        {
          "output_type": "stream",
          "name": "stdout",
          "text": [
            "Bir kelime girin: telefon\n",
            "telefon kelimesinde 3 adet sesli harf ve 4 sessiz harf vardır.\n"
          ]
        }
      ]
    }
  ]
}