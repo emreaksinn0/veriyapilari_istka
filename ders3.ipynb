{
  "nbformat": 4,
  "nbformat_minor": 0,
  "metadata": {
    "colab": {
      "provenance": []
    },
    "kernelspec": {
      "name": "python3",
      "display_name": "Python 3"
    },
    "language_info": {
      "name": "python"
    }
  },
  "cells": [
    {
      "cell_type": "code",
      "execution_count": 5,
      "metadata": {
        "colab": {
          "base_uri": "https://localhost:8080/"
        },
        "id": "T9gYShPqtdfp",
        "outputId": "a325de7c-e97e-40fc-ba38-d4cb4baf0b2a"
      },
      "outputs": [
        {
          "output_type": "stream",
          "name": "stdout",
          "text": [
            "merhaba ,İGÜ İSTKA/ DERS3\n"
          ]
        }
      ],
      "source": [
        "print(\"merhaba ,İGÜ İSTKA/ DERS3\")#BİR AÇIKLAMA SATIRIDIR!!"
      ]
    },
    {
      "cell_type": "code",
      "source": [
        "import sys#import pyhton programlama dilinde yazılım kütüphane eklemeye yarayan bir kod\n",
        "print(sys.version)"
      ],
      "metadata": {
        "colab": {
          "base_uri": "https://localhost:8080/"
        },
        "id": "xKNJzUp4vEBX",
        "outputId": "476b008a-e5d1-48df-fbcf-6e77765e1c51"
      },
      "execution_count": 2,
      "outputs": [
        {
          "output_type": "stream",
          "name": "stdout",
          "text": [
            "3.10.12 (main, Jul 29 2024, 16:56:48) [GCC 11.4.0]\n"
          ]
        }
      ]
    },
    {
      "cell_type": "code",
      "source": [
        "from google.colab import drive # google colab. google drive bağlantısı\n",
        "drive.mount('/content/drive')"
      ],
      "metadata": {
        "colab": {
          "base_uri": "https://localhost:8080/"
        },
        "id": "9iHprhn7vGDo",
        "outputId": "99f2939f-c3f4-410e-b9eb-d925fd9ff856"
      },
      "execution_count": 3,
      "outputs": [
        {
          "output_type": "stream",
          "name": "stdout",
          "text": [
            "Mounted at /content/drive\n"
          ]
        }
      ]
    },
    {
      "cell_type": "code",
      "source": [
        "import os\n",
        "os.chdir('/content/drive/My Drive/VERIYAPILARI_ISTKA')\n",
        "!pwd # bize kodun çıktısını dosya yolu olarak veren kod blogudur."
      ],
      "metadata": {
        "colab": {
          "base_uri": "https://localhost:8080/"
        },
        "id": "2HwJg697vLme",
        "outputId": "4b599b40-4dec-4144-a5f4-8b30107e1f57"
      },
      "execution_count": 4,
      "outputs": [
        {
          "output_type": "stream",
          "name": "stdout",
          "text": [
            "/content/drive/My Drive/VERIYAPILARI_ISTKA\n"
          ]
        }
      ]
    },
    {
      "cell_type": "markdown",
      "source": [
        "PYTHON Koşul Yapıları\n",
        "\n",
        "1. if Koşul yapısı -> belirtilen şart doğruysa (True) bir bloğun çalıştırılmasını sağlamaktadır.\n",
        "2. if-else Koşul yapısı -> if bloğu sağlanmazsa, else bloğu çalıştırılır.\n",
        "3. if-elif-else Koşul yapısı -> Birden fazla koşul kontrol etmek için elif (else if) kullanılır. İlk doğru koşul bulunana kadar kontrol devam eder. Hiçbiri doğru değilse, else bloğu çalıştırılır.\n",
        "4. İç İçe Koşullar\n",
        "5. Mantıksal Operatörler ile Koşul Yapıları"
      ],
      "metadata": {
        "id": "6erDCdkS1EOF"
      }
    },
    {
      "cell_type": "code",
      "source": [
        "# İf koşul yapısı\n",
        "x = 10\n",
        "if x > 5:\n",
        "  print(\"x, 5'ten büyüktür.\")"
      ],
      "metadata": {
        "colab": {
          "base_uri": "https://localhost:8080/"
        },
        "id": "DNHPrdU0vNTH",
        "outputId": "af1a5af8-4fef-4034-ae4c-e75fb1c11bb5"
      },
      "execution_count": 6,
      "outputs": [
        {
          "output_type": "stream",
          "name": "stdout",
          "text": [
            "x, 5'ten büyüktür.\n"
          ]
        }
      ]
    },
    {
      "cell_type": "code",
      "source": [
        "# if-else koşul yapısı\n",
        "\n",
        "x = 3\n",
        "if x > 5:\n",
        "  print(\"x, 5'ten büyüktür.\")\n",
        "else:\n",
        "  print(\"x,5'ten küçük veya eşittir.\")"
      ],
      "metadata": {
        "colab": {
          "base_uri": "https://localhost:8080/"
        },
        "id": "I8OgY7tc4iHN",
        "outputId": "87c1fb77-2943-4cd9-bda3-775a93d46091"
      },
      "execution_count": 9,
      "outputs": [
        {
          "output_type": "stream",
          "name": "stdout",
          "text": [
            "x,5'ten küçük veya eşittir.\n"
          ]
        }
      ]
    },
    {
      "cell_type": "code",
      "source": [
        "# if-elif-else koşul yapısı\n",
        "\n",
        "x = 8\n",
        "if x > 10:\n",
        "  print(\"x,10'dan büyüktür\")\n",
        "elif x > 5:\n",
        "  print(\"x,5'ten büyüktür ama 10'dan  küçüktür\")\n",
        "else:\n",
        "  print(\"x,5'ten küçüktür\")"
      ],
      "metadata": {
        "colab": {
          "base_uri": "https://localhost:8080/"
        },
        "id": "r2ksoiCY5OhR",
        "outputId": "c68a4c88-0108-4452-9ba0-2b6613a544c2"
      },
      "execution_count": 11,
      "outputs": [
        {
          "output_type": "stream",
          "name": "stdout",
          "text": [
            "x,5'ten büyüktür ama 10'dan  küçüktür\n"
          ]
        }
      ]
    },
    {
      "cell_type": "code",
      "source": [
        "# iç içe koşul yapısı\n",
        "x = 12\n",
        "y = 8\n",
        "if x >10:\n",
        "  if y >5:\n",
        "    print(\"x,10'dan büyük ve,y 5'ten büyüktür\")\n",
        "  else:\n",
        "    print(\"x, 10'dan büyük ama y,5ten küçük ve eşittir\")\n",
        "else:\n",
        "  print(\"x, 10'dan küçük veya eşittir\")"
      ],
      "metadata": {
        "colab": {
          "base_uri": "https://localhost:8080/"
        },
        "id": "2aB7HwXxDuWP",
        "outputId": "f2d9867d-dcf3-41ce-823f-58cc7c337046"
      },
      "execution_count": 12,
      "outputs": [
        {
          "output_type": "stream",
          "name": "stdout",
          "text": [
            "x,10'dan büyük ve,y 5'ten büyüktür\n"
          ]
        }
      ]
    },
    {
      "cell_type": "code",
      "source": [
        "# Mantıksal Operatörler ile Koşullar\n",
        "x = 7\n",
        "y = 3\n",
        "\n",
        "# 'and' operatörü ile\n",
        "if x > 5 and y > 2:\n",
        "    print(\"x, 5'ten büyük ve y, 2'den büyüktür.\")  # Bu satır çalışır\n",
        "\n",
        "# 'or' operatörü ile\n",
        "if x > 5 or y > 5:\n",
        "    print(\"x veya y, 5'ten büyüktür.\")  # Bu satır çalışır\n",
        "\n",
        "# 'not' operatörü ile\n",
        "if not (x > 10):\n",
        "    print(\"x, 10'dan büyük değildir.\")  # Bu satır çalışır"
      ],
      "metadata": {
        "colab": {
          "base_uri": "https://localhost:8080/"
        },
        "id": "nySMUALNGbWs",
        "outputId": "a7f6b95d-6bcd-4260-f3eb-e28fe2040892"
      },
      "execution_count": 13,
      "outputs": [
        {
          "output_type": "stream",
          "name": "stdout",
          "text": [
            "x, 5'ten büyük ve y, 2'den büyüktür.\n",
            "x veya y, 5'ten büyüktür.\n",
            "x, 10'dan büyük değildir.\n"
          ]
        }
      ]
    },
    {
      "cell_type": "code",
      "source": [
        "# Örnek1: Not Sistemi\n",
        "notu = 85\n",
        "if notu >= 90:\n",
        "  print(\"Harf Notu A\")\n",
        "elif notu >= 82:\n",
        "  print(\"Harf Notu B\")\n",
        "elif notu >= 70:\n",
        "  print(\"Harf Notu C\")\n",
        "elif notu >= 60:\n",
        "  print(\"Harf Notu D\")\n",
        "else:\n",
        "  print(\"Maalesef F aldiniz\")\n",
        "\n"
      ],
      "metadata": {
        "colab": {
          "base_uri": "https://localhost:8080/"
        },
        "id": "6h-ejKs-HEZ6",
        "outputId": "d776d325-aa88-4d1f-facf-4585b9255c9a"
      },
      "execution_count": 14,
      "outputs": [
        {
          "output_type": "stream",
          "name": "stdout",
          "text": [
            "Harf Notu B\n"
          ]
        }
      ]
    },
    {
      "cell_type": "code",
      "source": [
        "#Örnek2: Yaş Kontrolü\n",
        "yas = 20\n",
        "if yas < 18:\n",
        "  print(\"Reşit değilsiniz\")\n",
        "elif yas > 21:\n",
        "  print(\"Reşitsiniz ama içecek satın alamazsınız\")\n",
        "else:\n",
        "  print(\"İçecek Satın alabilirsiniz\")"
      ],
      "metadata": {
        "colab": {
          "base_uri": "https://localhost:8080/"
        },
        "id": "pf52l634ITvW",
        "outputId": "37c3cfbd-d2bf-4655-affe-92bc0b2b63fb"
      },
      "execution_count": 15,
      "outputs": [
        {
          "output_type": "stream",
          "name": "stdout",
          "text": [
            "İçecek Satın alabilirsiniz\n"
          ]
        }
      ]
    },
    {
      "cell_type": "code",
      "source": [
        "#Örnek3: Sayı Pozitif,Negatif veya Sıfır mı?\n",
        "sayi = int(input(\"Bir Sayi Giriniz\"))\n",
        "if sayi > 0:\n",
        "  print(\"sayi Pozitiftir\")\n",
        "elif sayi < 0:\n",
        "  print(\"Sayi Negatiftir\")\n",
        "else:\n",
        "  print(\"Sayi Sıfırdır\")"
      ],
      "metadata": {
        "colab": {
          "base_uri": "https://localhost:8080/"
        },
        "id": "wHcXfieMI1eq",
        "outputId": "8ec238a0-97dd-4692-a52f-953faaabdbeb"
      },
      "execution_count": 18,
      "outputs": [
        {
          "output_type": "stream",
          "name": "stdout",
          "text": [
            "Bir Sayi Giriniz-6\n",
            "Sayi Negatiftir\n"
          ]
        }
      ]
    }
  ]
}