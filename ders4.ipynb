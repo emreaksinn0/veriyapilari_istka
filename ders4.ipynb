{
  "nbformat": 4,
  "nbformat_minor": 0,
  "metadata": {
    "colab": {
      "provenance": []
    },
    "kernelspec": {
      "name": "python3",
      "display_name": "Python 3"
    },
    "language_info": {
      "name": "python"
    }
  },
  "cells": [
    {
      "cell_type": "code",
      "execution_count": 1,
      "metadata": {
        "colab": {
          "base_uri": "https://localhost:8080/"
        },
        "id": "pPJxTrAJ2YYF",
        "outputId": "c973748f-1e5c-4665-ae25-5f6cd7d63958"
      },
      "outputs": [
        {
          "output_type": "stream",
          "name": "stdout",
          "text": [
            "merhaba ,İGÜ İSTKA/ DERS3\n"
          ]
        }
      ],
      "source": [
        "print(\"merhaba ,İGÜ İSTKA/ DERS3\")#BİR AÇIKLAMA SATIRIDIR!!"
      ]
    },
    {
      "cell_type": "code",
      "source": [
        "import sys#import pyhton programlama dilinde yazılım kütüphane eklemeye yarayan bir kod\n",
        "print(sys.version)"
      ],
      "metadata": {
        "colab": {
          "base_uri": "https://localhost:8080/"
        },
        "id": "lBSswhHQ2i_P",
        "outputId": "b0c942b6-8393-4208-a6ae-16eb7b982406"
      },
      "execution_count": 2,
      "outputs": [
        {
          "output_type": "stream",
          "name": "stdout",
          "text": [
            "3.10.12 (main, Jul 29 2024, 16:56:48) [GCC 11.4.0]\n"
          ]
        }
      ]
    },
    {
      "cell_type": "code",
      "source": [
        "from google.colab import drive # google colab. google drive bağlantısı\n",
        "drive.mount('/content/drive')"
      ],
      "metadata": {
        "colab": {
          "base_uri": "https://localhost:8080/"
        },
        "id": "x8ztElVN2jE4",
        "outputId": "e349aa5e-5d01-4e58-91fc-fd51fe629695"
      },
      "execution_count": 3,
      "outputs": [
        {
          "output_type": "stream",
          "name": "stdout",
          "text": [
            "Mounted at /content/drive\n"
          ]
        }
      ]
    },
    {
      "cell_type": "code",
      "source": [
        "import os\n",
        "os.chdir('/content/drive/My Drive/VERIYAPILARI_ISTKA')\n",
        "!pwd # bize kodun çıktısını dosya yolu olarak veren kod blogudur."
      ],
      "metadata": {
        "colab": {
          "base_uri": "https://localhost:8080/"
        },
        "id": "0Nq2UCir2jKP",
        "outputId": "43ac248b-5500-43ff-d5fb-4962f5cb44e8"
      },
      "execution_count": 4,
      "outputs": [
        {
          "output_type": "stream",
          "name": "stdout",
          "text": [
            "/content/drive/My Drive/VERIYAPILARI_ISTKA\n"
          ]
        }
      ]
    },
    {
      "cell_type": "code",
      "source": [
        "# For Döngüsü Örneği: 0 dan 4'e kadar olan sayıları yazdırılması işlemidir.\n",
        "\n",
        "for i in range(6):\n",
        "  print(i)"
      ],
      "metadata": {
        "colab": {
          "base_uri": "https://localhost:8080/"
        },
        "id": "DIOgpt3Q2jWP",
        "outputId": "09e05370-adca-4da6-a58f-f3f984af33b2"
      },
      "execution_count": 9,
      "outputs": [
        {
          "output_type": "stream",
          "name": "stdout",
          "text": [
            "0\n",
            "1\n",
            "2\n",
            "3\n",
            "4\n",
            "5\n"
          ]
        }
      ]
    },
    {
      "cell_type": "code",
      "source": [
        "# for dönügüsü örneği: alışveriş listesi oluşturma\n",
        "liste = [\"elma\",\"armut\",\"erik\",\"karpuz\",\"kavun\"]\n",
        "for alinacaklar in liste:\n",
        "  print(alinacaklar)"
      ],
      "metadata": {
        "colab": {
          "base_uri": "https://localhost:8080/"
        },
        "id": "rSR9YEFwA1_z",
        "outputId": "2aac35d8-7ee4-4ddb-a2ee-bcc621123113"
      },
      "execution_count": 6,
      "outputs": [
        {
          "output_type": "stream",
          "name": "stdout",
          "text": [
            "elma\n",
            "armut\n",
            "erik\n",
            "karpuz\n",
            "kavun\n"
          ]
        }
      ]
    },
    {
      "cell_type": "code",
      "source": [
        "# for döngüsü örneği: bir sınıftaki öğrencilerin notlarının ortalamasını hesaplama\n",
        "notlar = [90,85,98,62,45]\n",
        "toplam = 0\n",
        "for sayi in notlar:\n",
        "  toplam+= sayi\n",
        "ortalama = toplam/ len(notlar)\n",
        "print(\"Notlarin ortalamasi\",ortalama)"
      ],
      "metadata": {
        "colab": {
          "base_uri": "https://localhost:8080/"
        },
        "id": "kXHeB5GuBmwU",
        "outputId": "40636ada-f8ca-4986-df26-7f53ed0ee337"
      },
      "execution_count": 11,
      "outputs": [
        {
          "output_type": "stream",
          "name": "stdout",
          "text": [
            "Notlarin ortalamasi 76.0\n"
          ]
        }
      ]
    },
    {
      "cell_type": "code",
      "source": [
        "# while döngüsü örneği: 0'dan 4'e kadar olan sayıları yazdırılması işlemidir.\n",
        "i = 0\n",
        "while i < 5: # \"=\" 5 dahil eder\n",
        "  print(i)\n",
        "  i += 1"
      ],
      "metadata": {
        "colab": {
          "base_uri": "https://localhost:8080/"
        },
        "id": "tFbmnDEEDwFr",
        "outputId": "b65352bc-097c-436c-bcc8-3a076990020d"
      },
      "execution_count": 17,
      "outputs": [
        {
          "output_type": "stream",
          "name": "stdout",
          "text": [
            "0\n",
            "1\n",
            "2\n",
            "3\n",
            "4\n"
          ]
        }
      ]
    },
    {
      "cell_type": "code",
      "source": [
        "# kullanıcıdan bir sayı alması\n",
        "kullanici=int(input(\"Bir sayi giriniz\"))\n",
        "i = 0\n",
        "while i <= kullanici:\n",
        "  print(i)\n",
        "  i += 1"
      ],
      "metadata": {
        "colab": {
          "base_uri": "https://localhost:8080/"
        },
        "id": "kYJMmiwQPI_d",
        "outputId": "e6286655-60a9-4972-ef11-9e7fa37ee785"
      },
      "execution_count": 20,
      "outputs": [
        {
          "output_type": "stream",
          "name": "stdout",
          "text": [
            "Bir sayi giriniz15\n",
            "0\n",
            "1\n",
            "2\n",
            "3\n",
            "4\n",
            "5\n",
            "6\n",
            "7\n",
            "8\n",
            "9\n",
            "10\n",
            "11\n",
            "12\n",
            "13\n",
            "14\n",
            "15\n"
          ]
        }
      ]
    },
    {
      "cell_type": "code",
      "source": [
        "# break örneği: 3'e ulaştığında döngü sonlandıran kod blogudur.\n",
        "for i in range(5):\n",
        "  if i ==3:\n",
        "    break\n",
        "  print(i)"
      ],
      "metadata": {
        "colab": {
          "base_uri": "https://localhost:8080/"
        },
        "id": "y9Y5AwYTPYMV",
        "outputId": "9100318a-4e16-4c46-dc8d-218457a65535"
      },
      "execution_count": 21,
      "outputs": [
        {
          "output_type": "stream",
          "name": "stdout",
          "text": [
            "0\n",
            "1\n",
            "2\n"
          ]
        }
      ]
    },
    {
      "cell_type": "code",
      "source": [
        "# continue örneği: 3'e ulaştığında o tekrar işlemini es geçen kod blogudur.\n",
        "for i in range(5):\n",
        "  if i ==3:\n",
        "    continue\n",
        "  print(i)"
      ],
      "metadata": {
        "colab": {
          "base_uri": "https://localhost:8080/"
        },
        "id": "5zkYKvG4Qa7K",
        "outputId": "3203cd77-d6a1-42a2-e3fd-247706f084d8"
      },
      "execution_count": 22,
      "outputs": [
        {
          "output_type": "stream",
          "name": "stdout",
          "text": [
            "0\n",
            "1\n",
            "2\n",
            "4\n"
          ]
        }
      ]
    },
    {
      "cell_type": "code",
      "source": [
        "# iç içe for döngüsü örneği: 2 boyutlu bir matrisin elemanları üzerinde işlemler.\n",
        "matris = [\n",
        "    [1,2,3],\n",
        "    [4,5,6],\n",
        "    [7,8,9]\n",
        "]\n",
        "for x in matris:\n",
        "    for y in x:\n",
        "        print(y)"
      ],
      "metadata": {
        "colab": {
          "base_uri": "https://localhost:8080/"
        },
        "id": "7bohPhR9Q0SW",
        "outputId": "9615eca5-5554-43a8-aa1f-84e7831b793e"
      },
      "execution_count": 27,
      "outputs": [
        {
          "output_type": "stream",
          "name": "stdout",
          "text": [
            "1\n",
            "2\n",
            "3\n",
            "4\n",
            "5\n",
            "6\n",
            "7\n",
            "8\n",
            "9\n"
          ]
        }
      ]
    },
    {
      "cell_type": "code",
      "source": [
        "# kullanıcıdan bilgi alınması\n",
        "while True:\n",
        "  try:\n",
        "    gelen = int(input(\"Lutfen bir sayi giriniz\"))\n",
        "    break\n",
        "  except ValueError:\n",
        "    print(\"Lutfen gecerli bir sayi giriniz\")\n",
        "\n",
        "i = 0\n",
        "while i <= gelen:\n",
        "  print(i)\n",
        "  i += 1"
      ],
      "metadata": {
        "colab": {
          "base_uri": "https://localhost:8080/"
        },
        "id": "Jv7v4DZvSb-6",
        "outputId": "9c66e8c7-465b-4252-f3ee-7db467c220e0"
      },
      "execution_count": 37,
      "outputs": [
        {
          "output_type": "stream",
          "name": "stdout",
          "text": [
            "Lutfen bir sayi giriniz5\n",
            "0\n",
            "1\n",
            "2\n",
            "3\n",
            "4\n",
            "5\n"
          ]
        }
      ]
    },
    {
      "cell_type": "code",
      "source": [
        "# while döngüsü örneği: kullanıcı bakiye bilgisinin sorgulanması\n",
        "ucret = 1000\n",
        "while ucret > 0:\n",
        "  try:\n",
        "    tutar = int(input(\"Lutfen çekmek istediginiz tutari cekiniz\"))\n",
        "    if tutar > ucret:\n",
        "      print(\"yetersiz bakiye\")\n",
        "      bilgi=input(\"İsleme devam etmek istiyor musunuz ? (e/h)\").lower()\n",
        "      if bilgi == \"h\":\n",
        "          print(\"İslem Sonlandırıldı\")\n",
        "          break\n",
        "    else:\n",
        "      ucret -= tutar\n",
        "      print(f\"Kalan bakiye: {ucret}\")\n",
        "    if ucret == 0:\n",
        "        print(\"Bakiye Tukendi\")\n",
        "        break\n",
        "  except ValueError:\n",
        "    print(\"Lutfen geçerli bir sayi giriniz\")"
      ],
      "metadata": {
        "colab": {
          "base_uri": "https://localhost:8080/"
        },
        "id": "3F1U2OteVBOR",
        "outputId": "f47cb0a8-0820-45b2-d63d-db71031b26b0"
      },
      "execution_count": 44,
      "outputs": [
        {
          "output_type": "stream",
          "name": "stdout",
          "text": [
            "Lutfen çekmek istediginiz tutari cekiniz200\n",
            "Kalan bakiye: 800\n",
            "Lutfen çekmek istediginiz tutari cekiniz400\n",
            "Kalan bakiye: 400\n",
            "Lutfen çekmek istediginiz tutari cekiniz600\n",
            "yetersiz bakiye\n",
            "İsleme devam etmek istiyor musunuz ? (e/h)e\n",
            "Lutfen çekmek istediginiz tutari cekiniz200\n",
            "Kalan bakiye: 200\n",
            "Lutfen çekmek istediginiz tutari cekiniz300\n",
            "yetersiz bakiye\n",
            "İsleme devam etmek istiyor musunuz ? (e/h)h\n",
            "İslem Sonlandırıldı\n"
          ]
        }
      ]
    }
  ]
}